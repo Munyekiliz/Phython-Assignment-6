{
  "nbformat": 4,
  "nbformat_minor": 0,
  "metadata": {
    "colab": {
      "name": "Assignment 6.ipynb",
      "provenance": [],
      "collapsed_sections": [],
      "include_colab_link": true
    },
    "kernelspec": {
      "name": "python3",
      "display_name": "Python 3"
    },
    "language_info": {
      "name": "python"
    }
  },
  "cells": [
    {
      "cell_type": "markdown",
      "metadata": {
        "id": "view-in-github",
        "colab_type": "text"
      },
      "source": [
        "<a href=\"https://colab.research.google.com/github/Munyekiliz/Phython-Assignment-6/blob/main/Assignment_6.ipynb\" target=\"_parent\"><img src=\"https://colab.research.google.com/assets/colab-badge.svg\" alt=\"Open In Colab\"/></a>"
      ]
    },
    {
      "cell_type": "code",
      "metadata": {
        "id": "AsoRnAI1kcp7",
        "colab": {
          "base_uri": "https://localhost:8080/"
        },
        "outputId": "ee3c0f35-d54c-4517-f934-926bf07db04e"
      },
      "source": [
        "student_name = input('Enter first and last name: ')\n",
        "student_sex = input('Enter the student sex: [female,male]')\n",
        "student_ID = input(\"Enter student ID: \")\n",
        "mailing_Address = input(\"Enter mailing address:\")\n",
        "City = input('Enter city: ')\n",
        "Country = input('Enter your country: ')\n",
        "phone = input(\"Enter phone number: \")\n",
        "region = input(\"Enter your region [Enter your continent] \")\n",
        "email = input('Enter email address: ')\n",
        "\n",
        "import re\n",
        "\n",
        "regex = '^[a-z0-9]+[\\._]?[a-z0-9]+[@]\\w+[.]\\w{2,3}$'\n",
        "def check(email):\n",
        "    if (re.search(regex, email)):\n",
        "        print('Valid Email')\n",
        "    else:\n",
        "      print('Invalid Email')\n",
        "    if __name__== '__main__':\n",
        "      email = input('Enter email address: ')\n",
        "      check(email)\n",
        "      region = input(\"Enter your region [Enter your continent]? \")\n",
        "     \n",
        "quiz1 = float(input(\"Enter score for quiz1: \"))\n",
        "quiz2 = float(input('Enter score for quiz2: '))\n",
        "quiz3 = float(input(\"Enter score for quiz3: \"))\n",
        "test1 = float(input(\"Enter score for test1: \"))\n",
        "test2 = float(input(\"Enter score for test2: \"))\n",
        "\n",
        "regex = \"^(10|[0-9]?)$\"\n",
        "def check(zoom_score):\n",
        "    if (re.search(regex, zoom_score)):\n",
        "       print(\"valid number\")\n",
        "    else:\n",
        "       print(\"invalid number\")\n",
        "if __name__== '__main__':\n",
        "     zoom_score = input(\"Enter your zoom call points: \")\n",
        "     check (zoom_score)\n",
        "assignment_score = input(\"Enter programming assignment points: \")\n",
        "total_points = float(zoom_score + assignment_score)/2\n",
        "Totals = (quiz1, quiz2, quiz3, test1, test2)\n",
        "avg = sum(Totals)/len(Totals)\n",
        "print()\n",
        "if region == \"Africa\":\n",
        "    if student_sex == 'male' and avg >=80 and total_points >= 8:\n",
        "       print(\"student \" + student_name + \" is Qualified for Scholarship\")\n",
        "    elif student_sex == \"female\" and avg >=76 and total_points >= 7:\n",
        "       print(\"student \" + student_name + \" is   Qualified for Scholarship\")\n",
        "\n",
        "if region != \"Africa\":\n",
        "    if student_sex == 'male' and avg >=80 and total_points >= 8:\n",
        "       print(\"student \" + student_name + \" is Qualified for Partial Scholarship\")\n",
        "    elif student_sex == \"female\" and avg >=76 and total_points >= 7:\n",
        "       print(\"student \" + student_name + \" is   Qualified for Partial Scholarship\")\n",
        "      \n",
        "    else:\n",
        "      print(\"student \" + student_name + \" is NOT Qualified for Scholarship\") \n",
        "\n",
        "print(\"Full name: \", student_name)\n",
        "print(\"Student's ID is : \", student_ID)\n",
        "print(\"Student's mailing address is: \", mailing_Address )\n",
        "print(\"Student's Email address is: \", email)\n",
        "print(\"Student's city is: \", City)\n",
        "print(\"Student's Country is: \", Country)\n",
        "print(\"Student's Region is: \", region) \n",
        "\n",
        "\n",
        "print(student_name  +   \"Your scores are as follows: \")\n",
        "print('First Quiz:' , quiz1)\n",
        "print('Second Quiz:' , quiz2)\n",
        "print('Third Quiz:', quiz3)\n",
        "print('First Test:', test1)\n",
        "print('Second Test:', test2)\n",
        "print(student_name  +  \"Your points are as follows:\")\n",
        "print('Zoom:', zoom_score)\n",
        "print('Assignments:', assignment_score)\n",
        "print(\"The average score of \" + student_name + \" is \", round(avg,2))                        \n"
      ],
      "execution_count": null,
      "outputs": [
        {
          "output_type": "stream",
          "text": [
            "Enter first and last name: Liz Smith\n",
            "Enter the student sex: [female,male]female\n",
            "Enter student ID: 445544\n",
            "Enter mailing address:123 Grove Park\n",
            "Enter city: Freearea\n",
            "Enter your country: Kenya\n",
            "Enter phone number: 4433444\n",
            "Enter your region [Enter your continent] Africa\n",
            "Enter email address: mobk@gmail.com\n",
            "Enter score for quiz1: 89\n",
            "Enter score for quiz2: 88\n",
            "Enter score for quiz3: 89\n",
            "Enter score for test1: 85\n",
            "Enter score for test2: 88\n",
            "Enter your zoom call points: 8\n",
            "valid number\n",
            "Enter programming assignment points: 8\n",
            "\n",
            "student Liz Smith is   Qualified for Scholarship\n",
            "Full name:  Liz Smith\n",
            "Student's ID is :  445544\n",
            "Student's mailing address is:  123 Grove Park\n",
            "Student's Email address is:  mobk@gmail.com\n",
            "Student's city is:  Freearea\n",
            "Student's Country is:  Kenya\n",
            "Student's Region is:  Africa\n",
            "Liz SmithYour scores are as follows: \n",
            "First Quiz: 89.0\n",
            "Second Quiz: 88.0\n",
            "Third Quiz: 89.0\n",
            "First Test: 85.0\n",
            "Second Test: 88.0\n",
            "Liz SmithYour points are as follows:\n",
            "Zoom: 8\n",
            "Assignments: 8\n",
            "The average score of Liz Smith is  87.8\n"
          ],
          "name": "stdout"
        }
      ]
    },
    {
      "cell_type": "code",
      "metadata": {
        "id": "6eIthMYLacdC"
      },
      "source": [
        ""
      ],
      "execution_count": null,
      "outputs": []
    },
    {
      "cell_type": "code",
      "metadata": {
        "id": "N1zBIZpqxI-3"
      },
      "source": [
        ""
      ],
      "execution_count": null,
      "outputs": []
    }
  ]
}